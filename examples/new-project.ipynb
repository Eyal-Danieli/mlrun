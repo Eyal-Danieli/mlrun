{
 "cells": [
  {
   "cell_type": "markdown",
   "metadata": {},
   "source": [
    "# Creating A New MLRun Project\n",
    "  --------------------------------------------------------------------\n",
    "\n",
    "creating a full project with multiple functions and workflow and working wit Git.\n",
    "\n",
    "#### **notebook how-to's**\n",
    "* Add local or library/remote functions\n",
    "* Add a workflow\n",
    "* Save to a remote git\n",
    "* Run pipeline"
   ]
  },
  {
   "cell_type": "markdown",
   "metadata": {},
   "source": [
    "<a id='top'></a>\n",
    "#### **steps**\n",
    "**[Add functions](#load-functions)**<br>\n",
    "**[Create and save a workflow](#create-workflow)**<br>\n",
    "**[Update remote git](#git-remote)**<br>\n",
    "**[Run a pipeline workflow](#run-pipeline)**<br>"
   ]
  },
  {
   "cell_type": "code",
   "execution_count": 1,
   "metadata": {},
   "source": [
    "from mlrun import new_project, code_to_function"
   ],
   "outputs": []
  },
  {
   "cell_type": "code",
   "execution_count": 2,
   "metadata": {},
   "source": [
    "# update the dir and repo to reflect real locations\n",
    "# the remote git repo must be initialized in GitHub\n",
    "project_dir = \"/User/new-proj\"\n",
    "remote_git = \"https://github.com/<my-org>/<my-repo>.git\"\n",
    "newproj = new_project(\"new-project\", project_dir, init_git=True)"
   ],
   "outputs": []
  },
  {
   "cell_type": "markdown",
   "metadata": {},
   "source": [
    "Set the remote git repo and pull to sync in case it has some content"
   ]
  },
  {
   "cell_type": "code",
   "execution_count": null,
   "metadata": {},
   "source": [
    "newproj.create_remote(remote_git)"
   ],
   "outputs": []
  },
  {
   "cell_type": "code",
   "execution_count": 4,
   "metadata": {},
   "source": [
    "newproj.pull()"
   ],
   "outputs": []
  },
  {
   "cell_type": "markdown",
   "metadata": {},
   "source": [
    "<a id='load-functions'></a>\n",
    "### Load functions from remote URLs or marketplace\n",
    "We create two functions:\n",
    "1. Load a function from the function market (converted into a function object)\n",
    "2. Create a function from file in the context dir (w copy a demo file into the dir) "
   ]
  },
  {
   "cell_type": "code",
   "execution_count": 3,
   "metadata": {},
   "source": [
    "newproj.set_function(\"hub://load_dataset\", \"ingest\").doc()"
   ],
   "outputs": []
  },
  {
   "cell_type": "markdown",
   "metadata": {},
   "source": [
    "### Create a local function (use code from mlrun examples)"
   ]
  },
  {
   "cell_type": "code",
   "execution_count": 4,
   "metadata": {},
   "source": [
    "!curl -o {project_dir}/handler.py https://raw.githubusercontent.com/mlrun/mlrun/master/examples/handler.py"
   ],
   "outputs": []
  },
  {
   "cell_type": "code",
   "execution_count": 5,
   "metadata": {},
   "source": [
    "# add function with build config (base image, run command)\n",
    "fn = code_to_function(\"tstfunc\", filename=\"handler.py\", kind=\"job\")\n",
    "fn.build_config(base_image=\"mlrun/mlrun\", commands=[\"pip install pandas\"])\n",
    "newproj.set_function(fn)\n",
    "print(newproj.func(\"tstfunc\").to_yaml())"
   ],
   "outputs": []
  },
  {
   "cell_type": "markdown",
   "metadata": {},
   "source": [
    "<a id='create-workflow'></a>\n",
    "### Create a workflow file and store it in the context dir"
   ]
  },
  {
   "cell_type": "code",
   "execution_count": 6,
   "metadata": {},
   "source": [
    "%%writefile {project_dir}/workflow.py\n",
    "from kfp import dsl\n",
    "from mlrun import mount_v3io\n",
    "\n",
    "funcs = {}\n",
    "\n",
    "def init_functions(functions: dict, project=None, secrets=None):\n",
    "    functions['ingest'].apply(mount_v3io())\n",
    "\n",
    "@dsl.pipeline(\n",
    "    name='demo project', description='Shows how to use mlrun project.'\n",
    ")\n",
    "def kfpipeline(p1=3):\n",
    "    # first step build the function container\n",
    "    builder = funcs['tstfunc'].deploy_step(with_mlrun=False)\n",
    "    \n",
    "    ingest = funcs['ingest'].as_step(name='load-data', params={'dataset': 'boston'})\n",
    "\n",
    "    # first step\n",
    "    s1 = funcs['tstfunc'].as_step(name='step-one', handler='my_func',\n",
    "         image=builder.outputs['image'],\n",
    "         params={'p1': p1})\n"
   ],
   "outputs": []
  },
  {
   "cell_type": "code",
   "execution_count": 7,
   "metadata": {},
   "source": [
    "newproj.set_workflow(\"main\", \"workflow.py\")"
   ],
   "outputs": []
  },
  {
   "cell_type": "code",
   "execution_count": 8,
   "metadata": {},
   "source": [
    "print(newproj.to_yaml())"
   ],
   "outputs": []
  },
  {
   "cell_type": "markdown",
   "metadata": {},
   "source": [
    "<a id='git-remote'></a>\n",
    "### Register and push the project to a remote Repo"
   ]
  },
  {
   "cell_type": "code",
   "execution_count": null,
   "metadata": {},
   "source": [
    "newproj.push(\"master\", \"first push\", add=[\"handler.py\", \"workflow.py\"])"
   ],
   "outputs": []
  },
  {
   "cell_type": "code",
   "execution_count": 18,
   "metadata": {},
   "source": [
    "newproj.source"
   ],
   "outputs": []
  },
  {
   "cell_type": "markdown",
   "metadata": {},
   "source": [
    "<a id='run-pipeline'></a>\n",
    "### Run the workflow"
   ]
  },
  {
   "cell_type": "code",
   "execution_count": 9,
   "metadata": {},
   "source": [
    "newproj.run(\n",
    "    \"main\",\n",
    "    arguments={},\n",
    "    artifact_path=\"v3io:///users/admin/mlrun/kfp/{{workflow.uid}}/\",\n",
    ")"
   ],
   "outputs": []
  },
  {
   "cell_type": "markdown",
   "metadata": {},
   "source": [
    "**[back to top](#top)**"
   ]
  }
 ],
 "metadata": {
  "kernelspec": {
   "display_name": "Python 3",
   "language": "python",
   "name": "python3"
  },
  "language_info": {
   "codemirror_mode": {
    "name": "ipython",
    "version": 3
   },
   "file_extension": ".py",
   "mimetype": "text/x-python",
   "name": "python",
   "nbconvert_exporter": "python",
   "pygments_lexer": "ipython3",
   "version": "3.6.8"
  }
 },
 "nbformat": 4,
 "nbformat_minor": 4
}
