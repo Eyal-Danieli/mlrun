{
 "cells": [
  {
   "cell_type": "markdown",
   "metadata": {},
   "source": [
    "(writing-custom-steps)=\n",
    "# Writing custom steps\n",
    "\n",
    "<!-- Add  overview -->"
   ]
  },
  {
   "cell_type": "markdown",
   "metadata": {},
   "source": [
    "The Graph executes built-in task classes, or task classes and functions that you implement.\n",
    "The task parameters include the following:\n",
    "* `class_name` (str): the relative or absolute class name.\n",
    "* `handler` (str): the function handler (if class_name is not specified it is the function handler).\n",
    "* `**class_args`: a set of class `__init__` arguments.\n",
    "\n",
    "For example, see the following simple `echo` class:"
   ]
  },
  {
   "cell_type": "code",
   "execution_count": 2,
   "metadata": {},
   "source": [
    "import mlrun"
   ],
   "outputs": []
  },
  {
   "cell_type": "code",
   "execution_count": 3,
   "metadata": {},
   "source": [
    "# mlrun: start"
   ],
   "outputs": []
  },
  {
   "cell_type": "code",
   "execution_count": 4,
   "metadata": {},
   "source": [
    "# echo class, custom class example\n",
    "class Echo:\n",
    "    def __init__(self, context, name=None, **kw):\n",
    "        self.context = context\n",
    "        self.name = name\n",
    "        self.kw = kw\n",
    "\n",
    "    def do(self, x):\n",
    "        print(\"Echo:\", self.name, x)\n",
    "        return x"
   ],
   "outputs": []
  },
  {
   "cell_type": "code",
   "execution_count": 5,
   "metadata": {},
   "source": [
    "# mlrun: end"
   ],
   "outputs": []
  },
  {
   "cell_type": "markdown",
   "metadata": {},
   "source": [
    "Test the graph: first convert the code to function, and then add the step to the graph:"
   ]
  },
  {
   "cell_type": "code",
   "execution_count": 7,
   "metadata": {},
   "source": [
    "fn_echo = mlrun.code_to_function(\"echo_function\", kind=\"serving\", image=\"mlrun/mlrun\")\n",
    "\n",
    "graph_echo = fn_echo.set_topology(\"flow\")\n",
    "\n",
    "graph_echo.to(class_name=\"Echo\", name=\"pre-process\", some_arg=\"abc\")\n",
    "\n",
    "graph_echo.plot(rankdir=\"LR\")"
   ],
   "outputs": []
  },
  {
   "cell_type": "markdown",
   "metadata": {},
   "source": [
    "Create a mock server to test this locally:"
   ]
  },
  {
   "cell_type": "code",
   "execution_count": 8,
   "metadata": {},
   "source": [
    "echo_server = fn_echo.to_mock_server(current_function=\"*\")\n",
    "\n",
    "result = echo_server.test(\"\", {\"inputs\": 123})\n",
    "echo_server.wait_for_completion()\n",
    "\n",
    "print(result)"
   ],
   "outputs": []
  },
  {
   "cell_type": "markdown",
   "metadata": {},
   "source": [
    "**For more information, see the [Advanced model serving graph notebook example](./graph-example.html)**"
   ]
  },
  {
   "cell_type": "markdown",
   "metadata": {},
   "source": [
    "<!-- Requires better description - and title? -->\n",
    "\n",
    "You can use any Python function by specifying the handler name (e.g. `handler=json.dumps`).\n",
    "The function is triggered with the `event.body` as the first argument, and its result \n",
    "is passed to the next step.\n",
    "\n",
    "Alternatively, you can use classes that can also store some step/configuration and separate the \n",
    "one time init logic from the per event logic. The classes are initialized with the `class_args`.\n",
    "If the class init args contain `context` or `name`, they are initialized with the \n",
    "[graph context](./realtime-pipelines.html) and the step name. \n",
    "\n",
    "By default, the `class_name` and handler specify a class/function name in the `globals()` (i.e. this module).\n",
    "Alternatively, those can be full paths to the class (module.submodule.class), e.g. `storey.WriteToParquet`.\n",
    "You can also pass the module as an argument to functions such as `function.to_mock_server(namespace=module)`.\n",
    "In this case the class or handler names are also searched in the provided module.\n",
    " <!-- the previous sentence needs clarification -->\n",
    "\n",
    "When using classes the class event handler is invoked on every event with the `event.body`.\n",
    "If the Task step `full_event` parameter is set to `True` the handler is invoked and returns\n",
    "the full `event` object. If the class event handler is not specified, it invokes the class `do()` method. \n",
    "\n",
    "If you need to implement async behavior, then subclass `storey.MapClass`."
   ]
  },
  {
   "cell_type": "markdown",
   "metadata": {},
   "source": [
    "\n",
    "## Create a single step\n",
    "\n",
    "When creating a serving function with a step that is a part of the class, the graph context is created in the init, and you can use this context to get the functions' parameters.\n",
    "\n",
    "When creating a single step (no class), the context is not created, and therefore the `get_param` does not work. The following example illustrates how to create the context and then use the parameters."
   ]
  },
  {
   "cell_type": "code",
   "execution_count": null,
   "metadata": {},
   "source": [
    "%%writefile serving-handler-func.py\n",
    "import pandas as pd\n",
    "import mlrun\n",
    "import mlrun.utils\n",
    "import os\n",
    "import json\n",
    "\n",
    "def test(event):\n",
    "    serving_spec = mlrun.utils.get_serving_spec()\n",
    "    server_context = mlrun.serving.GraphServer().from_dict(serving_spec)\n",
    "    context = mlrun.serving.GraphContext(server=server_context)\n",
    "    param = context.get_param(\"Test\")\n",
    "    return param"
   ],
   "outputs": []
  },
  {
   "cell_type": "code",
   "execution_count": null,
   "metadata": {},
   "source": [
    "serving_func_handler = project.set_function(\n",
    "    name=\"serving-handler-func\",\n",
    "    func=\"serving-handler-func.py\",\n",
    "    image=\"mlrun/mlrun\",\n",
    "    kind=\"serving\",\n",
    ")"
   ],
   "outputs": []
  },
  {
   "cell_type": "code",
   "execution_count": null,
   "metadata": {},
   "source": [
    "serving_func_handler.spec.parameters = {\"Test\": \"test\"}"
   ],
   "outputs": []
  },
  {
   "cell_type": "code",
   "execution_count": null,
   "metadata": {},
   "source": [
    "graph = serving_func_handler.set_topology(\"flow\")\n",
    "\n",
    "graph.to(name=\"test\", handler=\"test\").respond()"
   ],
   "outputs": []
  },
  {
   "cell_type": "code",
   "execution_count": null,
   "metadata": {},
   "source": [
    "serving_func_deploy = project.deploy_function(\"serving-handler-func\")"
   ],
   "outputs": []
  },
  {
   "cell_type": "code",
   "execution_count": null,
   "metadata": {},
   "source": [
    "serving_func_deploy.function.invoke(\n",
    "    \"/\",\n",
    ")"
   ],
   "outputs": []
  }
 ],
 "metadata": {
  "kernelspec": {
   "display_name": "Python 3 (ipykernel)",
   "language": "python",
   "name": "python3"
  },
  "language_info": {
   "codemirror_mode": {
    "name": "ipython",
    "version": 3
   },
   "file_extension": ".py",
   "mimetype": "text/x-python",
   "name": "python",
   "nbconvert_exporter": "python",
   "pygments_lexer": "ipython3",
   "version": "3.9.13"
  }
 },
 "nbformat": 4,
 "nbformat_minor": 4
}
