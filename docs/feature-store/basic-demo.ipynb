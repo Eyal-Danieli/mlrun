{
 "cells": [
  {
   "cell_type": "markdown",
   "metadata": {},
   "source": [
    "(basic-demo)=\n",
    "# Feature store example (stocks)\n",
    "\n",
    "This notebook demonstrates the following:\n",
    "- Generate features and feature-sets\n",
    "- Build complex transformations and ingest to offline and real-time data stores\n",
    "- Fetch feature vectors for training\n",
    "- Save feature vectors for re-use in real-time pipelines\n",
    "- Access features and their statistics in real-time\n",
    "\n",
    "```{admonition} Note\n",
    "By default, this demo works with the online feature store, which is currently not part of the Open Source MLRun default deployment.\n",
    "```\n",
    "\n",
    "**In this section**\n",
    "- [Get started](#get-started)\n",
    "- [Create sample data for demo](#create-sample-data-for-demo)\n",
    "- [Define, infer and ingest feature sets](#define-infer-and-ingest-feature-sets)\n",
    "- [Get an offline feature vector for training](#get-an-offline-feature-vector-for-training)\n",
    "- [Initialize an online feature service and use it for real-time inference](#initialize-an-online-feature-service-and-use-it-for-real-time-inference)\n",
    "\n",
    "## Get started\n",
    "\n",
    "Install the latest MLRun package and restart the notebook.\n",
    "\n",
    "Setting up the environment and project:"
   ]
  },
  {
   "cell_type": "code",
   "execution_count": 5,
   "metadata": {},
   "source": [
    "import mlrun\n",
    "\n",
    "mlrun.get_or_create_project(\"stocks\", \"./\")"
   ],
   "outputs": []
  },
  {
   "cell_type": "markdown",
   "metadata": {},
   "source": [
    "## Create sample data for demo"
   ]
  },
  {
   "cell_type": "code",
   "execution_count": 2,
   "metadata": {
    "tags": [
     "hide-cell"
    ]
   },
   "source": [
    "import pandas as pd\n",
    "\n",
    "quotes = pd.DataFrame(\n",
    "    {\n",
    "        \"time\": [\n",
    "            pd.Timestamp(\"2016-05-25 13:30:00.023\"),\n",
    "            pd.Timestamp(\"2016-05-25 13:30:00.023\"),\n",
    "            pd.Timestamp(\"2016-05-25 13:30:00.030\"),\n",
    "            pd.Timestamp(\"2016-05-25 13:30:00.041\"),\n",
    "            pd.Timestamp(\"2016-05-25 13:30:00.048\"),\n",
    "            pd.Timestamp(\"2016-05-25 13:30:00.049\"),\n",
    "            pd.Timestamp(\"2016-05-25 13:30:00.072\"),\n",
    "            pd.Timestamp(\"2016-05-25 13:30:00.075\"),\n",
    "        ],\n",
    "        \"ticker\": [\"GOOG\", \"MSFT\", \"MSFT\", \"MSFT\", \"GOOG\", \"AAPL\", \"GOOG\", \"MSFT\"],\n",
    "        \"bid\": [720.50, 51.95, 51.97, 51.99, 720.50, 97.99, 720.50, 52.01],\n",
    "        \"ask\": [720.93, 51.96, 51.98, 52.00, 720.93, 98.01, 720.88, 52.03],\n",
    "    }\n",
    ")\n",
    "\n",
    "trades = pd.DataFrame(\n",
    "    {\n",
    "        \"time\": [\n",
    "            pd.Timestamp(\"2016-05-25 13:30:00.023\"),\n",
    "            pd.Timestamp(\"2016-05-25 13:30:00.038\"),\n",
    "            pd.Timestamp(\"2016-05-25 13:30:00.048\"),\n",
    "            pd.Timestamp(\"2016-05-25 13:30:00.048\"),\n",
    "            pd.Timestamp(\"2016-05-25 13:30:00.048\"),\n",
    "        ],\n",
    "        \"ticker\": [\"MSFT\", \"MSFT\", \"GOOG\", \"GOOG\", \"AAPL\"],\n",
    "        \"price\": [51.95, 51.95, 720.77, 720.92, 98.0],\n",
    "        \"quantity\": [75, 155, 100, 100, 100],\n",
    "    }\n",
    ")\n",
    "\n",
    "\n",
    "stocks = pd.DataFrame(\n",
    "    {\n",
    "        \"ticker\": [\"MSFT\", \"GOOG\", \"AAPL\"],\n",
    "        \"name\": [\"Microsoft Corporation\", \"Alphabet Inc\", \"Apple Inc\"],\n",
    "        \"exchange\": [\"NASDAQ\", \"NASDAQ\", \"NASDAQ\"],\n",
    "    }\n",
    ")\n",
    "\n",
    "import datetime\n",
    "\n",
    "\n",
    "def move_date(df, col):\n",
    "    max_date = df[col].max()\n",
    "    now_date = datetime.datetime.now()\n",
    "    delta = now_date - max_date\n",
    "    df[col] = df[col] + delta\n",
    "    return df\n",
    "\n",
    "\n",
    "quotes = move_date(quotes, \"time\")\n",
    "trades = move_date(trades, \"time\")"
   ],
   "outputs": []
  },
  {
   "cell_type": "markdown",
   "metadata": {},
   "source": [
    "### View the demo data"
   ]
  },
  {
   "cell_type": "code",
   "execution_count": 3,
   "metadata": {
    "tags": [
     "hide-output"
    ]
   },
   "source": [
    "quotes"
   ],
   "outputs": []
  },
  {
   "cell_type": "code",
   "execution_count": 4,
   "metadata": {
    "tags": [
     "hide-output"
    ]
   },
   "source": [
    "trades"
   ],
   "outputs": []
  },
  {
   "cell_type": "code",
   "execution_count": 5,
   "metadata": {
    "tags": [
     "hide-output"
    ]
   },
   "source": [
    "stocks"
   ],
   "outputs": []
  },
  {
   "cell_type": "markdown",
   "metadata": {},
   "source": [
    "## Define, infer and ingest feature sets"
   ]
  },
  {
   "cell_type": "code",
   "execution_count": 6,
   "metadata": {},
   "source": [
    "import mlrun.feature_store as fstore\n",
    "from mlrun.feature_store.steps import *\n",
    "from mlrun.features import MinMaxValidator"
   ],
   "outputs": []
  },
  {
   "cell_type": "markdown",
   "metadata": {},
   "source": [
    "### Build and ingest simple feature set (stocks)"
   ]
  },
  {
   "cell_type": "code",
   "execution_count": 7,
   "metadata": {},
   "source": [
    "# add feature set without time column (stock ticker metadata)\n",
    "stocks_set = fstore.FeatureSet(\"stocks\", entities=[fstore.Entity(\"ticker\")])\n",
    "fstore.ingest(stocks_set, stocks, infer_options=fstore.InferOptions.default())"
   ],
   "outputs": []
  },
  {
   "cell_type": "markdown",
   "metadata": {},
   "source": [
    "### Build an advanced feature set - with feature engineering pipeline\n",
    "Define a feature set with custom data processing and time aggregation functions:"
   ]
  },
  {
   "cell_type": "code",
   "execution_count": 8,
   "metadata": {},
   "source": [
    "# create a new feature set\n",
    "quotes_set = fstore.FeatureSet(\"stock-quotes\", entities=[fstore.Entity(\"ticker\")])"
   ],
   "outputs": []
  },
  {
   "cell_type": "markdown",
   "metadata": {},
   "source": [
    "**Define a custom pipeline step (python class)**"
   ]
  },
  {
   "cell_type": "code",
   "execution_count": 9,
   "metadata": {},
   "source": [
    "class MyMap(MapClass):\n",
    "    def __init__(self, multiplier=1, **kwargs):\n",
    "        super().__init__(**kwargs)\n",
    "        self._multiplier = multiplier\n",
    "\n",
    "    def do(self, event):\n",
    "        event[\"multi\"] = event[\"bid\"] * self._multiplier\n",
    "        return event"
   ],
   "outputs": []
  },
  {
   "cell_type": "markdown",
   "metadata": {},
   "source": [
    "**Build and show the transformation pipeline**\n",
    "\n",
    "Use `storey` stream processing classes along with library and custom classes:"
   ]
  },
  {
   "cell_type": "code",
   "execution_count": 10,
   "metadata": {},
   "source": [
    "quotes_set.graph.to(\"MyMap\", multiplier=3).to(\n",
    "    \"storey.Extend\", _fn=\"({'extra': event['bid'] * 77})\"\n",
    ").to(\"storey.Filter\", \"filter\", _fn=\"(event['bid'] > 51.92)\").to(FeaturesetValidator())\n",
    "\n",
    "quotes_set.add_aggregation(\"ask\", [\"sum\", \"max\"], \"1h\", \"10m\", name=\"asks1\")\n",
    "quotes_set.add_aggregation(\"ask\", [\"sum\", \"max\"], \"5h\", \"10m\", name=\"asks5\")\n",
    "quotes_set.add_aggregation(\"bid\", [\"min\", \"max\"], \"1h\", \"10m\", name=\"bids\")\n",
    "\n",
    "# add feature validation policy\n",
    "quotes_set[\"bid\"] = fstore.Feature(validator=MinMaxValidator(min=52, severity=\"info\"))\n",
    "\n",
    "# add default target definitions and plot\n",
    "quotes_set.set_targets()\n",
    "quotes_set.plot(rankdir=\"LR\", with_targets=True)"
   ],
   "outputs": []
  },
  {
   "cell_type": "markdown",
   "metadata": {},
   "source": [
    "**Test and show the pipeline results locally (allow to quickly develop and debug)**"
   ]
  },
  {
   "cell_type": "code",
   "execution_count": 11,
   "metadata": {},
   "source": [
    "fstore.preview(\n",
    "    quotes_set,\n",
    "    quotes,\n",
    "    entity_columns=[\"ticker\"],\n",
    "    timestamp_key=\"time\",\n",
    "    options=fstore.InferOptions.default(),\n",
    ")"
   ],
   "outputs": []
  },
  {
   "cell_type": "code",
   "execution_count": 12,
   "metadata": {
    "tags": [
     "hide-output"
    ]
   },
   "source": [
    "# print the feature set object\n",
    "print(quotes_set.to_yaml())"
   ],
   "outputs": []
  },
  {
   "cell_type": "markdown",
   "metadata": {},
   "source": [
    "### Ingest data into offline and online stores\n",
    "This writes to both targets (Parquet and NoSQL)."
   ]
  },
  {
   "cell_type": "code",
   "execution_count": 13,
   "metadata": {},
   "source": [
    "# save ingest data and print the FeatureSet spec\n",
    "df = fstore.ingest(quotes_set, quotes)"
   ],
   "outputs": []
  },
  {
   "cell_type": "markdown",
   "metadata": {},
   "source": [
    "## Get an offline feature vector for training\n",
    "Example of combining features from 3 sources with time travel join of 3 tables with **time travel**.\n",
    "\n",
    "Specify a set of features and request the feature vector offline result as a dataframe:"
   ]
  },
  {
   "cell_type": "code",
   "execution_count": 14,
   "metadata": {},
   "source": [
    "features = [\n",
    "    \"stock-quotes.multi\",\n",
    "    \"stock-quotes.asks5_sum_5h as total_ask\",\n",
    "    \"stock-quotes.bids_min_1h\",\n",
    "    \"stock-quotes.bids_max_1h\",\n",
    "    \"stocks.*\",\n",
    "]\n",
    "\n",
    "vector = fstore.FeatureVector(\n",
    "    \"stocks-vec\", features, description=\"stocks demo feature vector\"\n",
    ")\n",
    "vector.save()"
   ],
   "outputs": []
  },
  {
   "cell_type": "code",
   "execution_count": 15,
   "metadata": {},
   "source": [
    "resp = fstore.get_offline_features(\n",
    "    vector, entity_rows=trades, entity_timestamp_column=\"time\"\n",
    ")\n",
    "resp.to_dataframe()"
   ],
   "outputs": []
  },
  {
   "cell_type": "markdown",
   "metadata": {},
   "source": [
    "## Initialize an online feature service and use it for real-time inference"
   ]
  },
  {
   "cell_type": "code",
   "execution_count": 16,
   "metadata": {},
   "source": [
    "service = fstore.get_online_feature_service(\"stocks-vec\")"
   ],
   "outputs": []
  },
  {
   "cell_type": "markdown",
   "metadata": {},
   "source": [
    "**Request feature vector statistics, can be used for imputing or validation**"
   ]
  },
  {
   "cell_type": "code",
   "execution_count": 17,
   "metadata": {},
   "source": [
    "service.vector.get_stats_table()"
   ],
   "outputs": []
  },
  {
   "cell_type": "markdown",
   "metadata": {},
   "source": [
    "**Real-time feature vector request**"
   ]
  },
  {
   "cell_type": "code",
   "execution_count": 18,
   "metadata": {},
   "source": [
    "service.get([{\"ticker\": \"GOOG\"}, {\"ticker\": \"MSFT\"}])"
   ],
   "outputs": []
  },
  {
   "cell_type": "code",
   "execution_count": 19,
   "metadata": {},
   "source": [
    "service.get([{\"ticker\": \"AAPL\"}])"
   ],
   "outputs": []
  },
  {
   "cell_type": "code",
   "execution_count": 20,
   "metadata": {},
   "source": [
    "service.close()"
   ],
   "outputs": []
  },
  {
   "cell_type": "code",
   "execution_count": null,
   "metadata": {},
   "source": [],
   "outputs": []
  }
 ],
 "metadata": {
  "kernelspec": {
   "display_name": "Python 3 (ipykernel)",
   "language": "python",
   "name": "python3"
  },
  "language_info": {
   "codemirror_mode": {
    "name": "ipython",
    "version": 3
   },
   "file_extension": ".py",
   "mimetype": "text/x-python",
   "name": "python",
   "nbconvert_exporter": "python",
   "pygments_lexer": "ipython3",
   "version": "3.7.7"
  }
 },
 "nbformat": 4,
 "nbformat_minor": 4
}
