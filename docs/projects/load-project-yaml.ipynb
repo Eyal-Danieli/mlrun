{
 "cells": [
  {
   "cell_type": "markdown",
   "id": "268d7741",
   "metadata": {},
   "source": [
    "(load-project-yaml-from-git)=\n",
    "# Load project YAML from Git, Zip, Tar source"
   ]
  },
  {
   "cell_type": "markdown",
   "id": "f263391c",
   "metadata": {},
   "source": [
    "After you create your project and you have a project.yaml file with all the necessery metadata within the remote source (Git, zip or gz.tar file), you can simply load that project and run, build, and deploy your functions and workflows.\n",
    "\n",
    "Run the project automation in {ref}`automate-project-git-source` before you run this workbook."
   ]
  },
  {
   "cell_type": "markdown",
   "id": "48e13297",
   "metadata": {},
   "source": [
    "This notebook presents the steps to load a CI/CD project in MLRun:\n",
    "1. [Loading a project from a remote URL](#loading-a-project-from-a-remote-url)\n",
    "2. [Getting a function object](#getting-a-function-object)\n",
    "3. [Running project functions](#running-project-functions)\n",
    "5. [Deploying project functions](#deploying-project-functions)\n",
    "6. [Running the project workflow](#running-the-project-workflow)"
   ]
  },
  {
   "cell_type": "markdown",
   "id": "d5ca2246",
   "metadata": {},
   "source": [
    "Install mlrun using ``pip install mlrun==<mlrun server version>`` or ``sh align_mlrun.sh`` (the default mlrun installer that automatically installs the server version)."
   ]
  },
  {
   "cell_type": "code",
   "execution_count": 1,
   "id": "0bcb3a5a",
   "metadata": {},
   "source": [
    "import mlrun"
   ],
   "outputs": []
  },
  {
   "cell_type": "markdown",
   "id": "ea823444",
   "metadata": {},
   "source": [
    "## Loading a project from a remote URL\n",
    "\n",
    "This method can be used for loading an MLRun project from yaml/zip/tar/git/dir or from the MLRun DB."
   ]
  },
  {
   "cell_type": "code",
   "execution_count": 2,
   "id": "ae2174b2",
   "metadata": {},
   "source": [
    "# project source to load from -'git://url/org/repo.git#<branch-name or refs/heads/.. or refs/tags/..>`.\n",
    "source = \"git://github.com/mlrun/ci-cd-tutorial.git#refs/tags/v3\""
   ],
   "outputs": []
  },
  {
   "cell_type": "markdown",
   "id": "4d3bc0fe",
   "metadata": {},
   "source": [
    "**Note -** Add the git branch or refs to the source e.g.: 'git://<url>/org/repo.git#<branch-name or refs/heads/..>'"
   ]
  },
  {
   "cell_type": "code",
   "execution_count": 3,
   "id": "bf0977b5",
   "metadata": {},
   "source": [
    "# load the project\n",
    "project = mlrun.load_project(\n",
    "    \"./clone\", url=source, clone=True, name=\"my-load-proj\", user_project=True\n",
    ")"
   ],
   "outputs": []
  },
  {
   "cell_type": "markdown",
   "id": "94de1a60",
   "metadata": {},
   "source": [
    "For example:\n",
    "```\n",
    "# when loading from private repo\n",
    "project = mlrun.get_or_create_project(name='new-ci-cd-proj',context='./',init_git=True,secrets={\"GIT_TOKEN\":<github-token>})\n",
    "# when running functions in a project from a private repo\n",
    "project.set_secrets({\"GIT_TOKEN\":<github-token>}\n",
    "```\n",
    "\n",
    "See {py:class}`mlrun.projects.load_project`."
   ]
  },
  {
   "cell_type": "code",
   "execution_count": 4,
   "id": "d1dd9bc7",
   "metadata": {},
   "source": [
    "# print project yaml\n",
    "print(project.to_yaml())"
   ],
   "outputs": []
  },
  {
   "cell_type": "markdown",
   "id": "4676c527",
   "metadata": {},
   "source": [
    "## Getting a function object \n",
    "Get the function object using the {py:class}`~mlrun.projects.MlrunProject.get_function` method.\n",
    "\n",
    "This method allows you to get a function object based on the metadata in your project YAML file or from MLRun DB.\n",
    "````\n",
    "serving_func = project.get_function('<function name>')\n",
    "````"
   ]
  },
  {
   "cell_type": "code",
   "execution_count": 8,
   "id": "37743f5b",
   "metadata": {},
   "source": [
    "serving_func = project.get_function(\"serving\")"
   ],
   "outputs": []
  },
  {
   "cell_type": "code",
   "execution_count": 10,
   "id": "035cf688",
   "metadata": {},
   "source": [
    "serving_func.add_model(\n",
    "    key=\"model\",\n",
    "    model_path=train_run.outputs[\"model\"],\n",
    "    class_name=\"mlrun.frameworks.sklearn.SklearnModelServer\",\n",
    ")"
   ],
   "outputs": []
  },
  {
   "cell_type": "markdown",
   "id": "8acbf7c2",
   "metadata": {},
   "source": [
    "```{admonition} Tip: Changing the model file path\n",
    "This serving function points to a model file whose path is stored in the function spec. If you want to change it (for example, to use a newer model file) you need to add the model to the function object and then deploy the function, or alternately, change the function.yaml in the remote source:\n",
    "\n",
    "\n",
    "      serving_func = project.get_function('serving')\n",
    "      serving_func.add_model(key='model',model_path=train_run.outputs[\"model\"],\n",
    "      class_name='mlrun.frameworks.sklearn.SklearnModelServer')\n",
    "      requirements = [\"scikit-learn\"]\n",
    "      serving_dep = project.deploy_function('serving')\n",
    "```"
   ]
  },
  {
   "cell_type": "markdown",
   "id": "89ea2afb",
   "metadata": {},
   "source": [
    "Test your serving function locally before deploying it."
   ]
  },
  {
   "cell_type": "code",
   "execution_count": 11,
   "id": "0ecd1cf6",
   "metadata": {},
   "source": [
    "serving_server = serving_func.to_mock_server()"
   ],
   "outputs": []
  },
  {
   "cell_type": "code",
   "execution_count": 12,
   "id": "bd901ebd",
   "metadata": {},
   "source": [
    "my_data = \"\"\"{\"inputs\":[[-0.60150011,  0.51150308,  0.25701239, -1.51777297, -1.82961288,\n",
    "         0.22983693, -0.40761625,  0.82325082,  1.1779216 ,  1.08424275,\n",
    "        -0.7031145 , -0.40608979, -0.36305977,  1.28075006,  0.94445967,\n",
    "         1.19105828,  1.93498414,  0.69911167,  0.50759757,  0.91565635]]}\"\"\""
   ],
   "outputs": []
  },
  {
   "cell_type": "code",
   "execution_count": 13,
   "id": "fc3766cc",
   "metadata": {},
   "source": [
    "serving_server.test(\"/\", my_data)"
   ],
   "outputs": []
  },
  {
   "cell_type": "markdown",
   "id": "a98c2ddc",
   "metadata": {},
   "source": [
    "## Running project functions \n",
    "Run the function using the {py:class}`~mlrun.projects.MlrunProject.run_function` method both to \n",
    "[run jobs locally](./automate-project-git-source.html#running-the-function-locally) \n",
    "and, run remotely on the [runtime/cluster](./automate-project-git-source.html#running-the-function-remotely-on-your-cluster). If \n",
    "there are any requirements you need to build a new \n",
    "image before you run a function. See more details in {ref}`build-function-image`."
   ]
  },
  {
   "cell_type": "code",
   "execution_count": 5,
   "id": "e9c7fdd5",
   "metadata": {},
   "source": [
    "project.run_function(\n",
    "    function=\"data-fetch\", local=True, returns=[\"train-dataset\", \"test-dataset\"]\n",
    ")"
   ],
   "outputs": []
  },
  {
   "cell_type": "code",
   "execution_count": 6,
   "id": "ba32d177",
   "metadata": {},
   "source": [
    "data_fetch_run = project.run_function(\n",
    "    function=\"data-fetch\", local=False, returns=[\"train-dataset\", \"test-dataset\"]\n",
    ")"
   ],
   "outputs": []
  },
  {
   "cell_type": "code",
   "execution_count": 7,
   "id": "6d206644",
   "metadata": {},
   "source": [
    "train_run = project.run_function(\n",
    "    function=\"train\",\n",
    "    inputs={\n",
    "        \"train_data\": data_fetch_run.outputs[\"train-dataset\"],\n",
    "        \"test_data\": data_fetch_run.outputs[\"test-dataset\"],\n",
    "    },\n",
    ")"
   ],
   "outputs": []
  },
  {
   "cell_type": "markdown",
   "id": "122cd04e",
   "metadata": {},
   "source": [
    "## Deploying project functions\n",
    "To deploy a remote function e.g. nuclio or serving function, use the {py:class}`~mlrun.projects.MlrunProject.deploy_function` method. \n",
    "You must use this method before invoking Nuclio or serving functions.\n",
    "````\n",
    "nuclio_func=project.deploy_function(function='<function name>')\n",
    "\n",
    "nuclio_func.function.invoke('/',{'int':4})\n",
    "````"
   ]
  },
  {
   "cell_type": "code",
   "execution_count": 14,
   "id": "89950a6e",
   "metadata": {},
   "source": [
    "serving_dep = project.deploy_function(\"serving\")"
   ],
   "outputs": []
  },
  {
   "cell_type": "code",
   "execution_count": 15,
   "id": "8ea18d9d",
   "metadata": {},
   "source": [
    "serving_dep.function.invoke(\"/\", my_data)"
   ],
   "outputs": []
  },
  {
   "cell_type": "markdown",
   "id": "2d1786c6",
   "metadata": {},
   "source": [
    "## Running the project workflow"
   ]
  },
  {
   "cell_type": "code",
   "execution_count": 16,
   "id": "1a89c5e6",
   "metadata": {},
   "source": [
    "# run the workflow named main and wait for the pipeline completion (watch=True)\n",
    "project.run(\"main\", watch=True, engine=\"remote:kfp\")"
   ],
   "outputs": []
  },
  {
   "cell_type": "markdown",
   "id": "c300faa6",
   "metadata": {},
   "source": [
    "## Running a scheduled workflow\n",
    "\n",
    "For more information about scheduling workflows, see {ref}`scheduled-jobs`."
   ]
  },
  {
   "cell_type": "code",
   "execution_count": 17,
   "id": "0130d760",
   "metadata": {},
   "source": [
    "project.run(\"main\", watch=True, schedule=\"0 * * * *\")"
   ],
   "outputs": []
  }
 ],
 "metadata": {
  "kernelspec": {
   "display_name": "Python 3 (ipykernel)",
   "language": "python",
   "name": "python3"
  },
  "language_info": {
   "codemirror_mode": {
    "name": "ipython",
    "version": 3
   },
   "file_extension": ".py",
   "mimetype": "text/x-python",
   "name": "python",
   "nbconvert_exporter": "python",
   "pygments_lexer": "ipython3",
   "version": "3.9.13"
  }
 },
 "nbformat": 4,
 "nbformat_minor": 5
}
