{
 "cells": [
  {
   "cell_type": "markdown",
   "id": "38032672",
   "metadata": {},
   "source": [
    "# Batch inference and drift detection\n",
    "\n",
    "This tutorial leverages a function from the [MLRun Function Hub](https://www.mlrun.org/hub/) to perform [batch inference](https://www.mlrun.org/hub/functions/master/batch_inference_v2/) using a logged model and a new prediction dataset. The function also calculates data drift by comparing the new prediction dataset with the original training set.\n",
    "\n",
    "Make sure you have reviewed the basics in MLRun [**Quick Start Tutorial**](./01-mlrun-basics.html)."
   ]
  },
  {
   "cell_type": "markdown",
   "id": "594b584a",
   "metadata": {},
   "source": [
    "Tutorial steps:\n",
    "- [**Set up a project**](#setup-project)\n",
    "- [**View the data**](#view-data)\n",
    "- [**Log the model with training data**](#log-model)\n",
    "- [**Import and run the batch inference function**](#run)\n",
    "- [**Predictions and drift status**](#predictions-and-drift-status)\n",
    "- [**Examining the drift results in the dashboard**](#examining-the-drift-results-in-the-dashboard)\n",
    "- [**Next steps**](#next-steps)"
   ]
  },
  {
   "cell_type": "markdown",
   "id": "d886a1e0",
   "metadata": {},
   "source": [
    "## MLRun installation and configuration\n",
    "\n",
    "Before running this notebook make sure `mlrun` is installed and that you have configured the access to the MLRun service. "
   ]
  },
  {
   "cell_type": "code",
   "execution_count": 1,
   "id": "84529cbd",
   "metadata": {},
   "source": [
    "# Install MLRun if not installed, run this only once (restart the notebook after the install !!!)\n",
    "%pip install mlrun"
   ],
   "outputs": []
  },
  {
   "cell_type": "markdown",
   "id": "c4a91c44",
   "metadata": {},
   "source": [
    "<a id=\"setup-project\"></a>\n",
    "## Set up a project\n",
    "\n",
    "First, import the dependencies and create an [MLRun project](../projects/create-project.html). The project contains all of your models, functions, datasets, etc.:"
   ]
  },
  {
   "cell_type": "code",
   "execution_count": 2,
   "id": "5604fe9c",
   "metadata": {},
   "source": [
    "import mlrun\n",
    "import pandas as pd"
   ],
   "outputs": []
  },
  {
   "cell_type": "code",
   "execution_count": 3,
   "id": "5305421b",
   "metadata": {},
   "source": [
    "project = mlrun.get_or_create_project(\"tutorial\", context=\"./\", user_project=True)"
   ],
   "outputs": []
  },
  {
   "cell_type": "markdown",
   "id": "0f9cf4bf",
   "metadata": {},
   "source": [
    "```{admonition} Note\n",
    "This tutorial does not focus on training a model. Instead, it starts with a trained model and its corresponding training and prediction dataset.\n",
    "```\n",
    "\n",
    "You'll use the following model files and datasets to perform the batch prediction. The model is a [DecisionTreeClassifier](https://scikit-learn.org/stable/modules/generated/sklearn.tree.DecisionTreeClassifier.html) from sklearn and the datasets are in `parquet` format."
   ]
  },
  {
   "cell_type": "code",
   "execution_count": 4,
   "id": "bbccfbd2",
   "metadata": {},
   "source": [
    "# We choose the correct model to avoid pickle warnings\n",
    "import sys\n",
    "\n",
    "suffix = (\n",
    "    mlrun.__version__.split(\"-\")[0].replace(\".\", \"_\")\n",
    "    if sys.version_info[1] > 7\n",
    "    else \"3.7\"\n",
    ")\n",
    "\n",
    "model_path = mlrun.get_sample_path(f\"models/batch-predict/model-{suffix}.pkl\")\n",
    "training_set_path = mlrun.get_sample_path(\"data/batch-predict/training_set.parquet\")\n",
    "prediction_set_path = mlrun.get_sample_path(\"data/batch-predict/prediction_set.parquet\")"
   ],
   "outputs": []
  },
  {
   "cell_type": "markdown",
   "id": "2c45d314",
   "metadata": {},
   "source": [
    "<a id=\"view-data\"></a>\n",
    "## View the data\n",
    "\n",
    "The training data has 20 numerical features and a binary (0,1) label:"
   ]
  },
  {
   "cell_type": "code",
   "execution_count": 5,
   "id": "6d0a46d9",
   "metadata": {},
   "source": [
    "pd.read_parquet(training_set_path).head()"
   ],
   "outputs": []
  },
  {
   "cell_type": "markdown",
   "id": "d5d924d9",
   "metadata": {},
   "source": [
    "**The prediction data has 20 numerical features, but no label - this is what you will predict:**"
   ]
  },
  {
   "cell_type": "code",
   "execution_count": 6,
   "id": "522c2eff",
   "metadata": {},
   "source": [
    "pd.read_parquet(prediction_set_path).head()"
   ],
   "outputs": []
  },
  {
   "cell_type": "markdown",
   "id": "892b09bc",
   "metadata": {},
   "source": [
    "<a id=\"log-model\"></a>\n",
    "## Log the model with training data\n",
    "\n",
    "Next, log the model using MLRun experiment tracking. This is usually done in a training pipeline, but you can also bring in your pre-trained models from other sources. See [Working with data and model artifacts](../training/working-with-data-and-model-artifacts.html) and [Automated experiment tracking](../concepts/auto-logging-mlops.html) for more information.\n",
    "\n",
    "In this example, you are logging a training set with the model for future comparison, however you can also directly pass in your training set to the batch prediction function."
   ]
  },
  {
   "cell_type": "code",
   "execution_count": 7,
   "id": "d8e0ab34",
   "metadata": {},
   "source": [
    "model_artifact = project.log_model(\n",
    "    key=\"model\",\n",
    "    model_file=model_path,\n",
    "    framework=\"sklearn\",\n",
    "    training_set=pd.read_parquet(training_set_path),\n",
    "    label_column=\"label\",\n",
    ")"
   ],
   "outputs": []
  },
  {
   "cell_type": "code",
   "execution_count": 8,
   "id": "3c681527",
   "metadata": {},
   "source": [
    "# the model artifact unique URI\n",
    "model_artifact.uri"
   ],
   "outputs": []
  },
  {
   "cell_type": "markdown",
   "id": "6f1b9f7a",
   "metadata": {},
   "source": [
    "<a id=\"run\"></a>\n",
    "## Import and run the batch inference function\n",
    "\n",
    "Next, import the [batch inference](https://www.mlrun.org/hub/functions/master/batch_inference_v2/) function from the [MLRun Function Hub](https://www.mlrun.org/hub/):"
   ]
  },
  {
   "cell_type": "code",
   "execution_count": 9,
   "id": "040650f4",
   "metadata": {},
   "source": [
    "fn = mlrun.import_function(\"hub://batch_inference_v2\")"
   ],
   "outputs": []
  },
  {
   "cell_type": "markdown",
   "id": "b5f44ada",
   "metadata": {
    "tags": []
   },
   "source": [
    "### Run batch inference\n",
    "\n",
    "Finally, perform the batch prediction by passing in your model and datasets. In addition, you can trigger the drift analysis batch job on the provided dataset by passing `\"trigger_monitoring_job\": True`. \n",
    "\n",
    "If you do perform drift analysis, a new model endpoint record is generated. Model endpoint is a unique MLRun entity that includes statistics and important details about your model and function. You can perform the drift analysis on an existing model endpoint, but you need to make sure that you don't mix unrelated datasets that could affect the final drift analysis process. In general, it's recommended to perform the drift analysis on a new model endpoint to avoid possible analysis conflicts.\n",
    "\n",
    "See the corresponding [batch inference example notebook](https://github.com/mlrun/functions/blob/master/batch_inference_v2/batch_inference_v2.ipynb) for an exhaustive list of other parameters that are supported:"
   ]
  },
  {
   "cell_type": "code",
   "execution_count": 10,
   "id": "233afac5",
   "metadata": {},
   "source": [
    "run = project.run_function(\n",
    "    fn,\n",
    "    inputs={\n",
    "        \"dataset\": prediction_set_path,\n",
    "    },\n",
    "    params={\n",
    "        \"model_path\": model_artifact.uri,\n",
    "        \"perform_drift_analysis\": True,\n",
    "        \"trigger_monitoring_job\": True,\n",
    "    },\n",
    ")"
   ],
   "outputs": []
  },
  {
   "cell_type": "markdown",
   "id": "45417d3c",
   "metadata": {},
   "source": [
    "<a id=\"predictions-and-drift-status\"></a>\n",
    "## Predictions and drift status"
   ]
  },
  {
   "cell_type": "markdown",
   "id": "5434192c",
   "metadata": {},
   "source": [
    "These are the batch predictions on the prediction set from the model:"
   ]
  },
  {
   "cell_type": "code",
   "execution_count": 11,
   "id": "1c651b0e",
   "metadata": {},
   "source": [
    "run.artifact(\"prediction\").as_df().head()"
   ],
   "outputs": []
  },
  {
   "cell_type": "markdown",
   "id": "4b1fe08a",
   "metadata": {},
   "source": [
    "There is also a drift table plot that compares the drift between the training data and prediction data per feature:"
   ]
  },
  {
   "cell_type": "code",
   "execution_count": null,
   "id": "db45da66",
   "metadata": {},
   "source": [
    "run.artifact(\"drift_table_plot\").show()"
   ],
   "outputs": []
  },
  {
   "cell_type": "markdown",
   "id": "99e119154e912d",
   "metadata": {},
   "source": [
    "![Drift Table Plot](./_static/images/drift_table_plot.png)"
   ]
  },
  {
   "cell_type": "markdown",
   "id": "8606a61b",
   "metadata": {},
   "source": [
    "Finally, you also get a numerical drift metric and boolean flag denoting whether or not data drift is detected:"
   ]
  },
  {
   "cell_type": "code",
   "execution_count": 13,
   "id": "2a787831",
   "metadata": {},
   "source": [
    "run.status.results"
   ],
   "outputs": []
  },
  {
   "cell_type": "code",
   "execution_count": 14,
   "id": "3b2663c1",
   "metadata": {},
   "source": [
    "# Data/concept drift per feature\n",
    "import json\n",
    "\n",
    "json.loads(run.artifact(\"features_drift_results\").get())"
   ],
   "outputs": []
  },
  {
   "cell_type": "markdown",
   "id": "aa256345-80d0-4c91-8469-c26017cea703",
   "metadata": {},
   "source": [
    "## Examining the drift results in the dashboard\n",
    "<a id=\"iguazio-platform\"></a>"
   ]
  },
  {
   "cell_type": "markdown",
   "id": "9e152f89-ce03-4e08-a96f-d0f9d36b4435",
   "metadata": {},
   "source": [
    "This section reviews the main charts and statistics that can be found on the platform dashboard. See [Model monitoring overview](../monitoring/model-monitoring-deployment.html) to learn more about the available model monitoring features and how to use them."
   ]
  },
  {
   "cell_type": "markdown",
   "id": "6073586e-84dc-42e0-a4fc-12dab0797c7e",
   "metadata": {},
   "source": [
    "Before analyzing the results in the visual dashboards, run another batch infer job, but this time with a lower drift threshold, to get a drifted result. The drift decision rule is the value per-feature mean of the [Total Variance Distance (TVD) and Hellinger distance](../monitoring/model-monitoring-deployment.html#common-terminology) scores. By default, the threshold is 0.7 but you can modify it through the batch infer process. As seen above, the drift result in this case was ~0.3. Reduce the threshold value to 0.2 in the following run to generate the drifted result:"
   ]
  },
  {
   "cell_type": "code",
   "execution_count": 16,
   "id": "7109ef01-6884-418c-9a05-b3ab5f08749e",
   "metadata": {},
   "source": [
    "run = project.run_function(\n",
    "    fn,\n",
    "    inputs={\n",
    "        \"dataset\": prediction_set_path,\n",
    "    },\n",
    "    params={\n",
    "        \"model_path\": model_artifact.uri,\n",
    "        \"perform_drift_analysis\": True,\n",
    "        \"trigger_monitoring_job\": True,\n",
    "        \"model_endpoint_name\": \"drifted-model-endpoint\",\n",
    "        \"model_endpoint_drift_threshold\": 0.2,\n",
    "        \"model_endpoint_possible_drift_threshold\": 0.1,\n",
    "    },\n",
    ")"
   ],
   "outputs": []
  },
  {
   "cell_type": "markdown",
   "id": "ce7dd020-cae9-4a0c-864e-c4afe5583f41",
   "metadata": {},
   "source": [
    " "
   ]
  },
  {
   "cell_type": "markdown",
   "id": "0ca92df4-4ee2-45ee-85a6-4201928abf04",
   "metadata": {},
   "source": [
    "Now you can observe the drift result:"
   ]
  },
  {
   "cell_type": "code",
   "execution_count": 17,
   "id": "9932cec4-cbfa-4229-a2e2-6590a18c77f8",
   "metadata": {},
   "source": [
    "run.status.results"
   ],
   "outputs": []
  },
  {
   "cell_type": "markdown",
   "id": "183ffe00-eaf2-4af5-8d4c-b66a561e2105",
   "metadata": {},
   "source": [
    "### Model Endpoints"
   ]
  },
  {
   "cell_type": "markdown",
   "id": "000e0c22-ea47-4bfe-89d0-ca14f49b2821",
   "metadata": {},
   "source": [
    "In the Projects page > [Model endpoint summary list](../monitoring/model-monitoring-deployment.html#model-endpoint-summary-list), you can see the new two model endpoints, including their drift status:"
   ]
  },
  {
   "cell_type": "markdown",
   "id": "2180da5fc1182632",
   "metadata": {},
   "source": [
    "![Model Endpoints Summary List](./_static/images/batch_infer_list_model_endpoints.png)"
   ]
  },
  {
   "cell_type": "markdown",
   "id": "a8b6d394-727e-4673-a696-9a24ad4aad65",
   "metadata": {},
   "source": [
    "You can zoom into one of the model endpoints to get an [overview](../monitoring/model-monitoring-deployment.html#model-endpoint-overview) about the selected endpoint, including the calculated statistical drift metrics:"
   ]
  },
  {
   "cell_type": "markdown",
   "id": "b55974e1b8f60f2f",
   "metadata": {},
   "source": [
    "![Model Endpoint Overview](./_static/images/batch_infer_overview_model_endpoint.png)"
   ]
  },
  {
   "cell_type": "markdown",
   "id": "da79120f-4818-4160-9a97-dc71accaef60",
   "metadata": {},
   "source": [
    "Press [Features Analysis](../monitoring/model-monitoring-deployment.html#model-features-analysis) to see details of the drift analysis in a table format with each feature in the selected model on its own line, including the predicted label:"
   ]
  },
  {
   "cell_type": "markdown",
   "id": "ed5b64b75cea86a9",
   "metadata": {},
   "source": [
    "![Model Endpoint Feature Analysis](./_static/images/batch_infer_feature_analysis.png)"
   ]
  },
  {
   "cell_type": "markdown",
   "id": "cf3d9159",
   "metadata": {},
   "source": [
    "## Next steps"
   ]
  },
  {
   "cell_type": "markdown",
   "id": "abaf6776",
   "metadata": {},
   "source": [
    "In a production setting, you probably want to incorporate this as part of a larger pipeline or application.\n",
    "\n",
    "For example, if you use this function for the prediction capabilities, you can pass the `prediction` output as the input to another pipeline step, store it in an external location like S3, or send to an application or user.\n",
    "\n",
    "If you use this function for the drift detection capabilities, you can use the `drift_status` and `drift_metrics` outputs to automate further pipeline steps, send a notification, or kick off a re-training pipeline."
   ]
  }
 ],
 "metadata": {
  "kernelspec": {
   "display_name": "Python 3 (ipykernel)",
   "language": "python",
   "name": "python3"
  },
  "language_info": {
   "codemirror_mode": {
    "name": "ipython",
    "version": 3
   },
   "file_extension": ".py",
   "mimetype": "text/x-python",
   "name": "python",
   "nbconvert_exporter": "python",
   "pygments_lexer": "ipython3",
   "version": "3.9.13"
  },
  "vscode": {
   "interpreter": {
    "hash": "916dbcbb3f70747c44a77c7bcd40155683ae19c65e1c03b4aa3499c5328201f1"
   }
  }
 },
 "nbformat": 4,
 "nbformat_minor": 5
}
