{
 "cells": [
  {
   "cell_type": "code",
   "execution_count": 1,
   "metadata": {},
   "source": [
    "import mlrun\n",
    "import time"
   ],
   "outputs": []
  },
  {
   "cell_type": "code",
   "execution_count": 2,
   "metadata": {},
   "source": [
    "project_name = \"model-serving\"\n",
    "project = mlrun.get_or_create_project(name=project_name)"
   ],
   "outputs": []
  },
  {
   "cell_type": "code",
   "execution_count": 3,
   "metadata": {},
   "source": [
    "# mlrun: start-code"
   ],
   "outputs": []
  },
  {
   "cell_type": "code",
   "execution_count": 4,
   "metadata": {},
   "source": [
    "import mlrun"
   ],
   "outputs": []
  },
  {
   "cell_type": "code",
   "execution_count": 5,
   "metadata": {},
   "source": [
    "preprocess_seconds = 0.1\n",
    "prediction_seconds = 0.1\n",
    "postprocess_seconds = 0.1"
   ],
   "outputs": []
  },
  {
   "cell_type": "code",
   "execution_count": 6,
   "metadata": {},
   "source": [
    "class ClassifierModel(mlrun.serving.V2ModelServer):\n",
    "    def load(self):\n",
    "        pass\n",
    "\n",
    "    def predict(self, body: dict):\n",
    "        # time.sleep(prediction_seconds)\n",
    "        return []\n",
    "\n",
    "\n",
    "#     def preprocess(self, request: dict, operation) -> dict:\n",
    "#         time.sleep(preprocess_seconds)\n",
    "#         return request\n",
    "\n",
    "#     def postprocess(self, request: dict):\n",
    "#         time.sleep(postprocess_seconds)\n",
    "#         return request"
   ],
   "outputs": []
  },
  {
   "cell_type": "code",
   "execution_count": 7,
   "metadata": {},
   "source": [
    "# mlrun: end-code"
   ],
   "outputs": []
  },
  {
   "cell_type": "code",
   "execution_count": 8,
   "metadata": {},
   "source": [
    "fn = mlrun.code_to_function(\n",
    "    \"v2-model-server\",\n",
    "    kind=\"serving\",\n",
    "    code_output=\".\",\n",
    "    image=\"mlrun/mlrun:1.7.0-rc6\",\n",
    ")\n",
    "fn.spec.min_replicas = 1\n",
    "fn.spec.max_replicas = 1\n",
    "fn.spec.default_class = \"ClassifierModel\""
   ],
   "outputs": []
  },
  {
   "cell_type": "code",
   "execution_count": 9,
   "metadata": {},
   "source": "",
   "outputs": []
  },
  {
   "cell_type": "code",
   "execution_count": 10,
   "metadata": {},
   "source": [
    "fn.add_model(\"mymodel\", model_path=\"abc\")"
   ],
   "outputs": []
  },
  {
   "cell_type": "code",
   "execution_count": null,
   "metadata": {},
   "source": [
    "fn.apply(mlrun.mount_v3io())\n",
    "invoke_url = fn.deploy(project=project_name)"
   ],
   "outputs": []
  },
  {
   "cell_type": "code",
   "execution_count": null,
   "metadata": {},
   "source": "!wget https://github.com/gtopper/postto/releases/download/v1.2.1/postto_v1.2.1_linux_amd64",
   "outputs": []
  },
  {
   "cell_type": "code",
   "execution_count": null,
   "metadata": {},
   "source": "!chmod u+x postto_v1.2.1_linux_amd64",
   "outputs": []
  },
  {
   "cell_type": "code",
   "execution_count": null,
   "metadata": {},
   "source": [
    "import os\n",
    "\n",
    "os.environ[\"BENCH_INVOKE_URL\"] = invoke_url\n",
    "os.environ[\"BENCH_CONCURRENT_REQUESTS\"] = \"16\""
   ],
   "outputs": []
  },
  {
   "cell_type": "code",
   "execution_count": null,
   "metadata": {},
   "source": "!for i in {1..50000}; do echo '{\"inputs\": []}'; done | ./postto_v1.2.1_linux_amd64 -num-concurrent-requests $BENCH_CONCURRENT_REQUESTS $BENCH_INVOKE_URL",
   "outputs": []
  },
  {
   "cell_type": "code",
   "execution_count": null,
   "metadata": {},
   "source": [],
   "outputs": []
  }
 ],
 "metadata": {
  "kernelspec": {
   "display_name": "mlrun-base",
   "language": "python",
   "name": "conda-env-mlrun-base-py"
  },
  "language_info": {
   "codemirror_mode": {
    "name": "ipython",
    "version": 3
   },
   "file_extension": ".py",
   "mimetype": "text/x-python",
   "name": "python",
   "nbconvert_exporter": "python",
   "pygments_lexer": "ipython3",
   "version": "3.9.18"
  }
 },
 "nbformat": 4,
 "nbformat_minor": 4
}
